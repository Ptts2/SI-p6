{
 "metadata": {
  "language_info": {
   "codemirror_mode": {
    "name": "ipython",
    "version": 3
   },
   "file_extension": ".py",
   "mimetype": "text/x-python",
   "name": "python",
   "nbconvert_exporter": "python",
   "pygments_lexer": "ipython3",
   "version": "3.8.5"
  },
  "orig_nbformat": 2,
  "kernelspec": {
   "name": "python385jvsc74a57bd073e03da126b73bfff3642ec5261d56fa25c444ea595de51041687efaa60dda41",
   "display_name": "Python 3.8.5 64-bit ('base': conda)"
  }
 },
 "nbformat": 4,
 "nbformat_minor": 2,
 "cells": [
  {
   "cell_type": "code",
   "execution_count": 147,
   "metadata": {},
   "outputs": [],
   "source": [
    "#Imports\n",
    "\n",
    "import math"
   ]
  },
  {
   "source": [
    "#Práctica 6 - RSA por bloques\n",
    "#Datos iniciales (modificar)\n",
    "\n",
    "alf = \"ABCDEFGHIJKLMNñOPQRSTUVWXYZ\"\n",
    "msj = \"KZQEYA\"\n",
    "\n",
    "#Susituir los \\n por doble espacio\n",
    "msj = msj.replace('\\\\r\\\\n', '  ')\n",
    "msj = msj.replace('\\\\n', '  ')\n",
    "msj = msj.replace('\\\\\\\\n', '  ') \n",
    "\n",
    "#Clave publica\n",
    "n = 10057\n",
    "e = 6571\n",
    "\n",
    "#p y q para el descifrado (clave privada)\n",
    "p = 89\n",
    "q = 113\n"
   ],
   "cell_type": "code",
   "metadata": {},
   "execution_count": 148,
   "outputs": []
  },
  {
   "cell_type": "code",
   "execution_count": 149,
   "metadata": {},
   "outputs": [],
   "source": [
    "N = len(alf) #Simbolos del alfabeto\n",
    "k = math.floor(math.log(n, N)) #Longitud del bloque\n",
    "\n",
    "#Funciones\n",
    "def obtenerMensaje(c, N):\n",
    "    msj_final =\"\"\n",
    "    cociente = math.floor(c/N)\n",
    "    entra = 0\n",
    "\n",
    "    while(cociente > N):\n",
    "        entra = entra +1\n",
    "        cociente = math.floor(c/N)\n",
    "        msj_final = msj_final + alf[c%N]\n",
    "        c=math.floor(c/N)\n",
    "\n",
    "    if(entra == 0):\n",
    "        msj_final =  msj_final + alf[c%N]\n",
    "        cociente = math.floor(c/N)\n",
    "    \n",
    "    msj_final = (msj_final + alf[cociente])[::-1]\n",
    "\n",
    "    return msj_final\n",
    "\n",
    "def obtenerEntero(msg, k):\n",
    "    num = 0\n",
    "    for i in range(k):\n",
    "        num = num + (alf.index( msg[i] ) * pow(N, k-(i+1)))\n",
    "    return num\n"
   ]
  },
  {
   "cell_type": "code",
   "execution_count": 150,
   "metadata": {},
   "outputs": [],
   "source": [
    "# #Cifrado\n",
    "# \n",
    "# #Bloques de longitud k \n",
    "# bloques = [msj[i:i+k] for i in range(0, len(msj), k)]\n",
    "# msj_final = \"\";\n",
    "# \n",
    "# #Cifro cada bloque de longitud k\n",
    "# for i in range(len(bloques)):\n",
    "#     \n",
    "#     m = obtenerEntero(bloques[i], k) #Entero a cifrar\n",
    "#     \n",
    "#     #Cifro m con RSA simple\n",
    "#     c = pow(m, e, n) #Entero cifrado\n",
    "#     \n",
    "#     msj_final_bloque = obtenerMensaje(c, N)\n",
    "#     msj_final = msj_final + msj_final_bloque\n",
    "#"
   ]
  },
  {
   "cell_type": "code",
   "execution_count": 151,
   "metadata": {},
   "outputs": [],
   "source": [
    "#Descifrado\n",
    "\n",
    "#Bloques de longitud k+1\n",
    "bloques = [msj[i:i+(k+1)] for i in range(0, len(msj), (k+1))]\n",
    "msj_final = \"\";\n",
    "\n",
    "#Descifro cada bloque de longitud k+1\n",
    "for i in range(len(bloques)):\n",
    "\n",
    "    c = obtenerEntero(bloques[i], k+1) #Entero a descifrar\n",
    "    #Calculo la clave privada\n",
    "    phi = (p-1) * (q-1) \n",
    "    d = pow(e, -1, phi)\n",
    "\n",
    "    #Descifro con RSA simple la c\n",
    "    m = pow(c, d, n) #Entero descifrado\n",
    "\n",
    "    msj_final_bloque = obtenerMensaje(m, N)\n",
    "    msj_final = msj_final + msj_final_bloque"
   ]
  },
  {
   "cell_type": "code",
   "execution_count": 152,
   "metadata": {},
   "outputs": [
    {
     "output_type": "stream",
     "name": "stdout",
     "text": [
      "STOP\n"
     ]
    }
   ],
   "source": [
    "#Resultados\n",
    "\n",
    "print(msj_final)"
   ]
  }
 ]
}