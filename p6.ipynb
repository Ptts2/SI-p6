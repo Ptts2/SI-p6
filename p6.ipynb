{
 "metadata": {
  "language_info": {
   "codemirror_mode": {
    "name": "ipython",
    "version": 3
   },
   "file_extension": ".py",
   "mimetype": "text/x-python",
   "name": "python",
   "nbconvert_exporter": "python",
   "pygments_lexer": "ipython3",
   "version": "3.8.5"
  },
  "orig_nbformat": 2,
  "kernelspec": {
   "name": "python385jvsc74a57bd073e03da126b73bfff3642ec5261d56fa25c444ea595de51041687efaa60dda41",
   "display_name": "Python 3.8.5 64-bit ('base': conda)"
  }
 },
 "nbformat": 4,
 "nbformat_minor": 2,
 "cells": [
  {
   "cell_type": "code",
   "execution_count": 1,
   "metadata": {},
   "outputs": [],
   "source": [
    "#Imports\n",
    "\n",
    "import math"
   ]
  },
  {
   "source": [
    "#Práctica 6 - RSA por bloques\n",
    "#Datos iniciales (modificar)\n",
    "\n",
    "alf = \"abcdefghijklmnñopqrstuvwxyzABCDEFGHIJKLMNÑOPQRSTUVWXYZáéíóúÁÉÍÓÚ0123456789 ,.:!-¿?()\"\n",
    "msj = \"BUL mzaR3Qx-OíQDM6EagkWFbb¿V7loJHpÓécaxLLBuú28V¿ÍÍETáÁKqEcFóÑUV1vu5rRxIchMiSikUpyAqXuÍvjWccDbUV3-S9VMÚDóéÑKKHdeWfphL2AoHKíBpcuOKO-kúYhúMNo95uc20sw1BeMñj(v-ñz:óMwáPVjqK66Vonegcy1zvUgAÍ5eM5YSQG3e)Eúrmkj\"\n",
    "\n",
    "#Susituir los \\n por doble espacio\n",
    "msj = msj.replace('\\\\r\\\\n', '  ')\n",
    "msj = msj.replace('\\\\n', '  ')\n",
    "msj = msj.replace('\\\\\\\\n', '  ') \n",
    "\n",
    "#Clave publica\n",
    "n = 8849169404252643679\n",
    "e = 196413997\n",
    "\n",
    "#p y q para el descifrado (clave privada)\n",
    "p = 2974755367\n",
    "q = 2974755337\n"
   ],
   "cell_type": "code",
   "metadata": {},
   "execution_count": 2,
   "outputs": []
  },
  {
   "cell_type": "code",
   "execution_count": 3,
   "metadata": {},
   "outputs": [],
   "source": [
    "N = len(alf) #Simbolos del alfabeto\n",
    "k = math.floor(math.log(n, N)) #Longitud del bloque\n",
    "\n",
    "#Funciones\n",
    "def obtenerMensaje(c, N):\n",
    "    msj_final =\"\"\n",
    "\n",
    "    cociente = 0\n",
    "    resto = 0\n",
    "\n",
    "    bucle = True\n",
    "\n",
    "    while(bucle):\n",
    "\n",
    "        cociente = math.floor(c/N)\n",
    "        resto = c%N\n",
    "        if(cociente < N):\n",
    "            bucle = False\n",
    "        else:\n",
    "            msj_final = msj_final + alf[resto]\n",
    "            c = cociente\n",
    "\n",
    "    msj_final = msj_final + alf[resto] + alf[cociente]\n",
    "\n",
    "    return msj_final[::-1]\n",
    "\n",
    "def obtenerEntero(msg, k):\n",
    "    num = 0\n",
    "    for i in range(k):\n",
    "        num = num + (alf.index( msg[i] ) * pow(N, k-(i+1)))\n",
    "    return num\n"
   ]
  },
  {
   "cell_type": "code",
   "execution_count": 4,
   "metadata": {},
   "outputs": [],
   "source": [
    "# #Cifrado\n",
    "# \n",
    "# #Bloques de longitud k \n",
    "# bloques = [msj[i:i+k] for i in range(0, len(msj), k)]\n",
    "# msj_final = \"\";\n",
    "# \n",
    "# #Cifro cada bloque de longitud k\n",
    "# for i in range(len(bloques)):\n",
    "#     \n",
    "#     m = obtenerEntero(bloques[i], k) #Entero a cifrar\n",
    "#     \n",
    "#     #Cifro m con RSA simple\n",
    "#     c = pow(m, e, n) #Entero cifrado\n",
    "#     \n",
    "#     msj_final_bloque = obtenerMensaje(c, N)\n",
    "#     msj_final = msj_final + msj_final_bloque\n",
    "#"
   ]
  },
  {
   "cell_type": "code",
   "execution_count": 5,
   "metadata": {},
   "outputs": [],
   "source": [
    "#Descifrado\n",
    "\n",
    "#Bloques de longitud k+1\n",
    "bloques = [msj[i:i+(k+1)] for i in range(0, len(msj), (k+1))]\n",
    "msj_final = \"\"\n",
    "\n",
    "#Descifro cada bloque de longitud k+1\n",
    "for i in range(len(bloques)):\n",
    "    c = obtenerEntero(bloques[i], len(bloques[i])) #Entero a descifrar\n",
    "    #Calculo la clave privada\n",
    "    phi = (p-1) * (q-1) \n",
    "    d = pow(e, -1, phi)\n",
    "\n",
    "    #Descifro con RSA simple la c\n",
    "    m = pow(c, d, n) #Entero descifrado\n",
    "\n",
    "    msj_final_bloque = obtenerMensaje(m, N)\n",
    "    msj_final = msj_final + msj_final_bloque"
   ]
  },
  {
   "cell_type": "code",
   "execution_count": 6,
   "metadata": {},
   "outputs": [
    {
     "output_type": "stream",
     "name": "stdout",
     "text": [
      "Si cantan, es ti que cantas\nsi chorn, es ti que chors\ni es o marmurio do río\ni es a noite i es a aurora.\nROSALÍA DE CASTRO (Follas Novas, Negra Sombra, estrofa 3, 1880)\n\n, \n"
     ]
    }
   ],
   "source": [
    "#Resultados\n",
    "print(*msj_final.split(\"  \"), sep=\"\\n\")"
   ]
  },
  {
   "cell_type": "code",
   "execution_count": null,
   "metadata": {},
   "outputs": [],
   "source": []
  }
 ]
}